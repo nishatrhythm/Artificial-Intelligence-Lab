{
 "cells": [
  {
   "cell_type": "code",
   "execution_count": 1,
   "id": "8a3e0d6a-f570-4980-a9eb-3ca76c28db1a",
   "metadata": {},
   "outputs": [
    {
     "name": "stdout",
     "output_type": "stream",
     "text": [
      "Output with initial weights and bias: 4.8\n"
     ]
    }
   ],
   "source": [
    "#a simple neural network with one output neuron, four inputs and weights, and bias\n",
    "\n",
    "inputs = [1.0, 2.0, 3.0, 2.5]\n",
    "weights = [0.2, 0.8, -0.5, 1.0]\n",
    "bias = 2.0\n",
    "output = (inputs[0] * weights[0] + inputs[1] * weights[1] + inputs[2] * weights[2] + inputs[3] * weights[3] + bias)\n",
    "print(\"Output with initial weights and bias:\", output)"
   ]
  },
  {
   "cell_type": "code",
   "execution_count": 2,
   "id": "8b772d18-9f85-4b49-8fb5-d07a07283f7c",
   "metadata": {},
   "outputs": [
    {
     "name": "stdout",
     "output_type": "stream",
     "text": [
      "Output with adjusted weights and bias: 5.0724367992094805\n"
     ]
    }
   ],
   "source": [
    "# Design the previous example of neural network by adjusting weights and bias randomly\n",
    "\n",
    "import random\n",
    "for i in range(len(weights)):\n",
    "    weights[i] += random.uniform(-0.5, 0.5)\n",
    "bias += random.uniform(-0.5, 0.5)\n",
    "\n",
    "# Calculate output with adjusted weights and bias\n",
    "output = (inputs[0] * weights[0] + inputs[1] * weights[1] + inputs[2] * weights[2] + inputs[3] * weights[3] + bias)\n",
    "print(\"Output with adjusted weights and bias:\", output)"
   ]
  },
  {
   "cell_type": "code",
   "execution_count": 3,
   "id": "2e095ca7-e207-44ea-8aa3-5836796e02bb",
   "metadata": {},
   "outputs": [
    {
     "name": "stdout",
     "output_type": "stream",
     "text": [
      "Output: [4.8, 1.21, 2.385]\n"
     ]
    }
   ],
   "source": [
    "# A fully connected neural network — every neuron in the current layer has connections to every neuron from the previous layer.\n",
    "\n",
    "inputs = [1, 2, 3, 2.5]\n",
    "weights1 = [0.2, 0.8, -0.5, 1]\n",
    "weights2 = [0.5, -0.91, 0.26, -0.5]\n",
    "weights3 = [-0.26, -0.27, 0.17, 0.87]\n",
    "bias1 = 2\n",
    "bias2 = 3\n",
    "bias3 = 0.5\n",
    "\n",
    "outputs = [\n",
    "    # Neuron 1:\n",
    "    inputs[0] * weights1[0] + inputs[1] * weights1[1] + inputs[2] * weights1[2] + inputs[3] * weights1[3] + bias1,\n",
    "\n",
    "    # Neuron 2:\n",
    "    inputs[0] * weights2[0] + inputs[1] * weights2[1] + inputs[2] * weights2[2] + inputs[3] * weights2[3] + bias2,\n",
    "\n",
    "    # Neuron 3:\n",
    "    inputs[0] * weights3[0] + inputs[1] * weights3[1] + inputs[2] * weights3[2] + inputs[3] * weights3[3] + bias3]\n",
    "\n",
    "print(\"Output:\", outputs)"
   ]
  },
  {
   "cell_type": "code",
   "execution_count": 4,
   "id": "0b2c2577-fb13-4e16-a54b-14f6c92a0ab2",
   "metadata": {
    "scrolled": true
   },
   "outputs": [
    {
     "name": "stdout",
     "output_type": "stream",
     "text": [
      "Output: -4.263782339555571\n"
     ]
    }
   ],
   "source": [
    "# A fully connected neural network — every neuron in the current layer has connections to every neuron from the previous layer.\n",
    "# You have 4 input neurons, one hidden layer consisting of 3 neurons and one output neuron. You should adust weights and biases randomly.\n",
    "\n",
    "inputs = [1, 2, 3, 2.5]\n",
    "\n",
    "# Randomly initialize weights and biases for the hidden layer\n",
    "hidden_weights = [[random.uniform(-1, 1) for _ in range(4)] for _ in range(3)]\n",
    "hidden_biases = [random.uniform(-1, 1) for _ in range(3)]\n",
    "\n",
    "# Randomly initialize weights and bias for the output layer\n",
    "output_weights = [random.uniform(-1, 1) for _ in range(3)]\n",
    "output_bias = random.uniform(-1, 1)\n",
    "\n",
    "# Calculate outputs for the hidden layer\n",
    "hidden_outputs = [\n",
    "    sum([inputs[i] * hidden_weights[j][i] for i in range(4)]) + hidden_biases[j]\n",
    "    for j in range(3)\n",
    "]\n",
    "\n",
    "# Calculate output for the output layer\n",
    "output = sum([hidden_outputs[j] * output_weights[j] for j in range(3)]) + output_bias\n",
    "\n",
    "print(\"Output:\", output)"
   ]
  },
  {
   "cell_type": "code",
   "execution_count": 5,
   "id": "770a2ab7-4aae-4fc4-96a8-88e17fe93570",
   "metadata": {},
   "outputs": [
    {
     "name": "stdout",
     "output_type": "stream",
     "text": [
      "Output: 1.2355\n"
     ]
    }
   ],
   "source": [
    "# Using loop option to get the weights, inputs and biases then feed into the neurons.\n",
    "\n",
    "inputs = [1, 2, 3, 2.5]\n",
    "weights = [\n",
    "           [0.2, 0.8, -0.5, 1],\n",
    "           [0.5, -0.91, 0.26, -0.5],\n",
    "           [-0.26, -0.27, 0.17, 0.87]\n",
    "          ]\n",
    "biases = [2, 3, 0.5]\n",
    "\n",
    "# Output of the current layer\n",
    "layer_outputs = []\n",
    "\n",
    "# For each neuron\n",
    "for neuron_weights, neuron_bias in zip(weights, biases):\n",
    "    # Zeroed output of the given neuron\n",
    "    neuron_output = 0\n",
    "\n",
    "    # For each input and weight to the neuron\n",
    "    for n_input, weight in zip(inputs, neuron_weights):\n",
    "        # Multiply this input by the associated weight\n",
    "        # and add to the neuron's output variable\n",
    "\n",
    "        neuron_output += n_input * weight\n",
    "\n",
    "    # Add bias\n",
    "    neuron_output += neuron_bias\n",
    "\n",
    "    # Put the neuron's result into the layer's output list\n",
    "    layer_outputs.append(neuron_output)\n",
    "\n",
    "#print(layer_outputs)\n",
    "weight_out = [0.2, 0.8, -0.5]\n",
    "bias_out = 0.5\n",
    "final_output = (layer_outputs[0] * weight_out[0] + layer_outputs[1] * weight_out[1] + layer_outputs[2] * weight_out[2]) + bias_out\n",
    "print(\"Output:\", final_output)"
   ]
  },
  {
   "cell_type": "code",
   "execution_count": 6,
   "id": "09e09e10-2849-4d5e-bf8d-00436cbcff72",
   "metadata": {},
   "outputs": [
    {
     "name": "stdout",
     "output_type": "stream",
     "text": [
      "Output: 4.8\n"
     ]
    }
   ],
   "source": [
    "# Using numpy library to calculate dot product in the neural network.\n",
    "\n",
    "import numpy as np\n",
    "\n",
    "inputs = [1.0, 2.0, 3.0, 2.5]\n",
    "weights = [0.2, 0.8, -0.5, 1.0]\n",
    "bias = 2.0\n",
    "\n",
    "outputs = np.dot(weights, inputs) + bias\n",
    "print(\"Output:\", outputs)"
   ]
  },
  {
   "cell_type": "code",
   "execution_count": 7,
   "id": "173fcef4-9699-4f92-b9b0-c90a459a07b3",
   "metadata": {},
   "outputs": [
    {
     "name": "stdout",
     "output_type": "stream",
     "text": [
      "Output: [4.8   1.21  2.385]\n"
     ]
    }
   ],
   "source": [
    "inputs = [1, 2, 3, 2.5]\n",
    "weights = [\n",
    "    [0.2, 0.8, -0.5, 1],\n",
    "    [0.5, -0.91, 0.26, -0.5],\n",
    "    [-0.26, -0.27, 0.17, 0.87]\n",
    "]\n",
    "biases = [2, 3, 0.5]\n",
    "\n",
    "outputs = np.dot(weights, inputs) + biases\n",
    "# or\n",
    "# outputs = np.dot(inputs, np.array(weights).T) + biases\n",
    "\n",
    "print(\"Output:\", outputs)"
   ]
  },
  {
   "cell_type": "code",
   "execution_count": 8,
   "id": "e5d22214-e8c4-41a1-895e-7181bc3c784c",
   "metadata": {},
   "outputs": [
    {
     "name": "stdout",
     "output_type": "stream",
     "text": [
      "Output: [4.8   1.21  2.385]\n"
     ]
    }
   ],
   "source": [
    "# Same code while multiplying the inputs with transpose of the weights to adjust the matrix row column multiplication concept\n",
    "\n",
    "inputs = np.array([1, 2, 3, 2.5])\n",
    "weights = np.array([\n",
    "    [0.2, 0.8, -0.5, 1],\n",
    "    [0.5, -0.91, 0.26, -0.5],\n",
    "    [-0.26, -0.27, 0.17, 0.87]\n",
    "])\n",
    "biases = np.array([2, 3, 0.5])\n",
    "\n",
    "outputs = np.dot(inputs, weights.T) + biases\n",
    "print(\"Output:\", outputs)"
   ]
  },
  {
   "cell_type": "code",
   "execution_count": 9,
   "id": "31f02ab3-9570-4b42-8f11-0cffef8ad2ea",
   "metadata": {},
   "outputs": [
    {
     "name": "stdout",
     "output_type": "stream",
     "text": [
      "[[ 4.8    1.21   2.385]\n",
      " [ 8.9   -1.81   0.2  ]\n",
      " [ 1.41   1.051  0.026]]\n"
     ]
    }
   ],
   "source": [
    "# Take inputs containing 3 samples with 4 features, and 3 neurons with weights and biases, respectively.\n",
    "# Then print the outputs of the neorons.\n",
    "\n",
    "# Define inputs (3 samples with 4 features each)\n",
    "inputs = np.array([\n",
    "    [1, 2, 3, 2.5],\n",
    "    [2.0, 5.0, -1.0, 2.0],\n",
    "    [-1.5, 2.7, 3.3, -0.8]\n",
    "])\n",
    "\n",
    "# Define weights (3 neurons with 4 weights each)\n",
    "weights = np.array([\n",
    "    [0.2, 0.8, -0.5, 1],\n",
    "    [0.5, -0.91, 0.26, -0.5],\n",
    "    [-0.26, -0.27, 0.17, 0.87]\n",
    "])\n",
    "\n",
    "# Define biases (3 biases, one for each neuron)\n",
    "biases = np.array([2, 3, 0.5])\n",
    "\n",
    "outputs = np.dot(inputs, weights.T) + biases\n",
    "print(outputs)"
   ]
  },
  {
   "cell_type": "code",
   "execution_count": 10,
   "id": "93cb987c-f41e-4e63-9d63-f8cd8a80b1ab",
   "metadata": {},
   "outputs": [
    {
     "name": "stdout",
     "output_type": "stream",
     "text": [
      "[[ 4.8  -1.15  1.95]\n",
      " [ 6.85 -2.55  3.05]\n",
      " [ 5.8  -1.95  2.9 ]\n",
      " [ 4.8  -1.15  1.95]\n",
      " [ 5.8  -1.95  2.9 ]]\n"
     ]
    }
   ],
   "source": [
    "# inputs-batch with weights and then transpose them to calculate dot product.\n",
    "\n",
    "# inputs = [[1.0, 2.0, 3.0, 2.5], [2.0, 4.0, 1.5, 2.0], [0.5, 1.5, 2.0, 3.5]]\n",
    "# weights = [[0.2, 0.8, -0.5, 1.0], [0.5, -0.9, 0.3, -0.7], [-0.1, 0.6, -0.3, 0.9]]\n",
    "\n",
    "inputs = np.array([[1.0, 2.0, 3.0, 2.5],\n",
    "                   [2.0, 4.0, 1.5, 2.0],\n",
    "                   [0.5, 1.5, 2.0, 3.5],\n",
    "                   [1.0, 2.0, 3.0, 2.5],\n",
    "                   [0.5, 1.5, 2.0, 3.5]])\n",
    "\n",
    "weights = np.array([[0.2, 0.8, -0.5, 1.0],\n",
    "                    [0.5, -0.9, 0.3, -0.7],\n",
    "                    [-0.1, 0.6, -0.3, 0.9]])\n",
    "\n",
    "biases = np.array([2.0, 1.0, -0.5])\n",
    "\n",
    "outputs = np.dot(inputs, weights.T)+biases\n",
    "print(outputs)"
   ]
  },
  {
   "cell_type": "code",
   "execution_count": 11,
   "id": "25b0296f-676e-47b3-b180-e7618d0de595",
   "metadata": {},
   "outputs": [
    {
     "name": "stdout",
     "output_type": "stream",
     "text": [
      "[[ 0.5031  -1.04185 -2.03875]\n",
      " [ 0.2434  -2.7332  -5.7633 ]\n",
      " [-0.99314  1.41254 -0.35655]\n",
      " [-1.67008  1.29842  0.83314]]\n"
     ]
    }
   ],
   "source": [
    "# Two hidden layers with four neurons at the first layer and three in the second.\n",
    "\n",
    "inputs = [[1, 2, 3, 2.5],\n",
    "          [2., 5., -1., 2],\n",
    "          [-1.5, 2.7, 3.3, -0.8],\n",
    "          [3, 2, 1.7, -0.5]\n",
    "          ]\n",
    "\n",
    "weights = [[0.2, 0.8, -0.5, 1],\n",
    "           [0.5, -0.91, 0.26, -0.5],\n",
    "           [-0.26, -0.27, 0.17, 0.87]]\n",
    "\n",
    "biases = [2, 3, 0.5]\n",
    "\n",
    "weights2 = [[0.1, -0.14, 0.5],\n",
    "            [-0.5, 0.12, -0.33],\n",
    "            [-0.44, 0.73, -0.13]]\n",
    "\n",
    "biases2 = [-1, 2, -0.5]\n",
    "\n",
    "layer1_outputs = np.dot(inputs, np.array(weights).T) + biases\n",
    "\n",
    "layer2_outputs = np.dot(layer1_outputs, np.array(weights2).T) + biases2\n",
    "\n",
    "print(layer2_outputs)"
   ]
  },
  {
   "cell_type": "code",
   "execution_count": 12,
   "id": "c5d13f06-09e5-45f1-b05d-7056c4fd7496",
   "metadata": {},
   "outputs": [
    {
     "name": "stdout",
     "output_type": "stream",
     "text": [
      "[0.62245933 0.26894142 0.88079708]\n"
     ]
    }
   ],
   "source": [
    "# Sigmoidal activation function\n",
    "\n",
    "def sigmoid(x):\n",
    "    return 1 / (1 + np.exp(-x))\n",
    "\n",
    "# Example usage\n",
    "x = np.array([0.5, -1.0, 2.0])\n",
    "output = sigmoid(x)\n",
    "print(output)"
   ]
  },
  {
   "cell_type": "code",
   "execution_count": 13,
   "id": "ea82b57a-6bb5-4e6f-98de-18eff6524d3f",
   "metadata": {},
   "outputs": [
    {
     "name": "stdout",
     "output_type": "stream",
     "text": [
      "[0. 0. 0. 1. 2.]\n"
     ]
    }
   ],
   "source": [
    "# Rectified Linear Unit (ReLU) activation function\n",
    "\n",
    "def relu(x):\n",
    "    return np.maximum(0, x)\n",
    "\n",
    "# Example usage\n",
    "x = np.array([-2.0, -1.0, 0.0, 1.0, 2.0])\n",
    "output = relu(x)\n",
    "print(output)"
   ]
  },
  {
   "cell_type": "code",
   "execution_count": 14,
   "id": "3f142b36-fc52-41eb-9e9a-1d02a79a2228",
   "metadata": {},
   "outputs": [
    {
     "name": "stdout",
     "output_type": "stream",
     "text": [
      "1\n"
     ]
    }
   ],
   "source": [
    "# Step function\n",
    "\n",
    "def step_function(x, threshold=0):\n",
    "    if x <= threshold:\n",
    "        return 0\n",
    "    else:\n",
    "        return 1\n",
    "\n",
    "# Example usage\n",
    "x = 0.5\n",
    "output = step_function(x)\n",
    "print(output)"
   ]
  },
  {
   "cell_type": "code",
   "execution_count": 15,
   "id": "fe45c7b2-39ac-43fa-8b18-67b7b38d006b",
   "metadata": {},
   "outputs": [
    {
     "name": "stdout",
     "output_type": "stream",
     "text": [
      "[0 0 0 1 1]\n"
     ]
    }
   ],
   "source": [
    "# Step function\n",
    "\n",
    "def step_function(x, threshold=0):\n",
    "    return np.where(x <= threshold, 0, 1)\n",
    "\n",
    "# Example usage\n",
    "x = np.array([-2.0, -1.0, 0.0, 1.0, 2.0])\n",
    "output = step_function(x)\n",
    "print(output)"
   ]
  },
  {
   "cell_type": "code",
   "execution_count": 16,
   "id": "2fa92803-04b1-4df9-914f-df7ad26601a2",
   "metadata": {},
   "outputs": [
    {
     "name": "stdout",
     "output_type": "stream",
     "text": [
      "Inputs: [[0 0]\n",
      " [0 1]\n",
      " [1 0]\n",
      " [1 1]]\n",
      "Labels (Actual Outputs): [0 0 0 1]\n",
      "Predicted Outputs: [0, 0, 0, 1]\n",
      "Correct Predictions: 4\n"
     ]
    }
   ],
   "source": [
    "# Solve AND gate problem using neural network\n",
    "\n",
    "# Define the inputs and corresponding labels for the 2-input AND gate\n",
    "inputs = np.array([[0, 0],\n",
    "                   [0, 1],\n",
    "                   [1, 0],\n",
    "                   [1, 1]])\n",
    "\n",
    "labels = np.array([0, 0, 0, 1])\n",
    "\n",
    "# Define the weights and biases for the neural network\n",
    "weights = np.array([0.5, 0.5])\n",
    "bias = -0.7\n",
    "\n",
    "# Define the activation function (step function)\n",
    "def step_function(x):\n",
    "    return 0 if x <= 0 else 1\n",
    "\n",
    "# Perform the forward pass to compute the outputs\n",
    "outputs = []\n",
    "for input_row in inputs:\n",
    "    weighted_sum = np.dot(input_row, weights) + bias\n",
    "    output = step_function(weighted_sum)\n",
    "    outputs.append(output)\n",
    "\n",
    "# Compare the predicted outputs with the actual labels\n",
    "correct_predictions = np.sum(outputs == labels)\n",
    "\n",
    "# Print the results\n",
    "print(\"Inputs:\", inputs)\n",
    "print(\"Labels (Actual Outputs):\", labels)\n",
    "print(\"Predicted Outputs:\", outputs)\n",
    "print(\"Correct Predictions:\", correct_predictions)"
   ]
  },
  {
   "cell_type": "code",
   "execution_count": 17,
   "id": "824b4787-9ecb-4ba9-b7ce-48fddc08efe2",
   "metadata": {},
   "outputs": [
    {
     "name": "stdout",
     "output_type": "stream",
     "text": [
      "Random Weights: [-0.66113658  0.57488481]\n",
      "Random Bias: 0.8987828534282349\n",
      "Inputs: [[0 0]\n",
      " [0 1]\n",
      " [1 0]\n",
      " [1 1]]\n",
      "Labels (Actual Outputs): [0 0 0 1]\n",
      "Predicted Outputs: [1, 1, 1, 1]\n",
      "Correct Predictions: 1\n"
     ]
    }
   ],
   "source": [
    "# Define the inputs and corresponding labels for the 2-input AND gate (random weights and biases)\n",
    "\n",
    "inputs = np.array([[0, 0],\n",
    "                   [0, 1],\n",
    "                   [1, 0],\n",
    "                   [1, 1]])\n",
    "\n",
    "labels = np.array([0, 0, 0, 1])\n",
    "\n",
    "# Define the range for random initialization\n",
    "weight_range = (-1, 1)\n",
    "bias_range = (-1, 1)\n",
    "\n",
    "# Randomly initialize the weights and bias within the defined range\n",
    "weights = np.random.uniform(low=weight_range[0], high=weight_range[1], size=(2,))\n",
    "bias = np.random.uniform(low=bias_range[0], high=bias_range[1])\n",
    "\n",
    "# Define the activation function (step function)\n",
    "def step_function(x):\n",
    "    return 0 if x <= 0 else 1\n",
    "\n",
    "# Perform the forward pass to compute the outputs\n",
    "outputs = []\n",
    "for input_row in inputs:\n",
    "    weighted_sum = np.dot(input_row, weights) + bias\n",
    "    output = step_function(weighted_sum)\n",
    "    outputs.append(output)\n",
    "\n",
    "# Compare the predicted outputs with the actual labels\n",
    "correct_predictions = np.sum(outputs == labels)\n",
    "\n",
    "# Print the results\n",
    "print(\"Random Weights:\", weights)\n",
    "print(\"Random Bias:\", bias)\n",
    "print(\"Inputs:\", inputs)\n",
    "print(\"Labels (Actual Outputs):\", labels)\n",
    "print(\"Predicted Outputs:\", outputs)\n",
    "print(\"Correct Predictions:\", correct_predictions)"
   ]
  },
  {
   "cell_type": "code",
   "execution_count": 18,
   "id": "3f416474-1ef2-41d5-a176-57f5311bfd64",
   "metadata": {},
   "outputs": [
    {
     "name": "stdout",
     "output_type": "stream",
     "text": [
      "Inputs: [[0 0 0]\n",
      " [0 0 1]\n",
      " [0 1 0]\n",
      " [0 1 1]\n",
      " [1 0 0]\n",
      " [1 0 1]\n",
      " [1 1 0]\n",
      " [1 1 1]]\n",
      "Labels (Actual Outputs): [0 0 0 0 0 0 0 1]\n",
      "Predicted Outputs: [0, 0, 0, 0, 0, 0, 0, 1]\n",
      "Correct Predictions: 8\n"
     ]
    }
   ],
   "source": [
    "# Define the inputs and corresponding labels for the 3-input AND gate\n",
    "\n",
    "inputs = np.array([[0, 0, 0],\n",
    "                   [0, 0, 1],\n",
    "                   [0, 1, 0],\n",
    "                   [0, 1, 1],\n",
    "                   [1, 0, 0],\n",
    "                   [1, 0, 1],\n",
    "                   [1, 1, 0],\n",
    "                   [1, 1, 1]])\n",
    "\n",
    "labels = np.array([0, 0, 0, 0, 0, 0, 0, 1])\n",
    "\n",
    "# Define the weights and bias for the neural network\n",
    "weights = np.array([1, 1, 1])\n",
    "bias = -2.5\n",
    "\n",
    "# Define the activation function (step function)\n",
    "def step_function(x):\n",
    "    return 0 if x <= 0 else 1\n",
    "\n",
    "# Perform the forward pass to compute the outputs\n",
    "outputs = []\n",
    "for input_row in inputs:\n",
    "    weighted_sum = np.dot(input_row, weights) + bias\n",
    "    output = step_function(weighted_sum)\n",
    "    outputs.append(output)\n",
    "\n",
    "# print(len(labels))\n",
    "\n",
    "# Compare the predicted outputs with the actual labels\n",
    "correct_predictions = np.sum(np.array(outputs) == labels)\n",
    "\n",
    "# Print the results\n",
    "print(\"Inputs:\", inputs)\n",
    "print(\"Labels (Actual Outputs):\", labels)\n",
    "print(\"Predicted Outputs:\", outputs)\n",
    "print(\"Correct Predictions:\", correct_predictions)"
   ]
  },
  {
   "cell_type": "code",
   "execution_count": 19,
   "id": "5a290800-111f-45ca-b59f-f1ff4fd50025",
   "metadata": {},
   "outputs": [
    {
     "name": "stdout",
     "output_type": "stream",
     "text": [
      "Inputs: [[0 0]\n",
      " [0 1]\n",
      " [1 0]\n",
      " [1 1]]\n",
      "Labels (Actual Outputs): [0 1 1 1]\n",
      "Predicted Outputs: [0, 1, 1, 1]\n",
      "Correct Predictions: 4\n"
     ]
    }
   ],
   "source": [
    "# Solve OR gate problem using neural network\n",
    "\n",
    "# Define the inputs and corresponding labels for the 2-input OR gate\n",
    "inputs = np.array([[0, 0],\n",
    "                   [0, 1],\n",
    "                   [1, 0],\n",
    "                   [1, 1]])\n",
    "\n",
    "labels = np.array([0, 1, 1, 1]) \n",
    "\n",
    "# Define the weights and bias for the neural network\n",
    "weights = np.array([0.5, 0.5]) \n",
    "bias = -0.2 \n",
    "\n",
    "# Define the activation function (step function)\n",
    "def step_function(x):\n",
    "    return 0 if x <= 0 else 1\n",
    "\n",
    "# Perform the forward pass to compute the outputs\n",
    "outputs = []\n",
    "for input_row in inputs:\n",
    "    weighted_sum = np.dot(input_row, weights) + bias\n",
    "    output = step_function(weighted_sum)\n",
    "    outputs.append(output)\n",
    "\n",
    "# Compare the predicted outputs with the actual labels\n",
    "correct_predictions = np.sum(outputs == labels)\n",
    "\n",
    "# Print the results\n",
    "print(\"Inputs:\", inputs)\n",
    "print(\"Labels (Actual Outputs):\", labels)\n",
    "print(\"Predicted Outputs:\", outputs)\n",
    "print(\"Correct Predictions:\", correct_predictions)"
   ]
  },
  {
   "cell_type": "code",
   "execution_count": 20,
   "id": "1aaa9705-c8f4-4a4c-87ac-56cf7544f5a6",
   "metadata": {},
   "outputs": [
    {
     "name": "stdout",
     "output_type": "stream",
     "text": [
      "Random Weights: [-0.6553367  -0.74693924]\n",
      "Random Bias: -0.33252453181317554\n",
      "Inputs: [[0 0]\n",
      " [0 1]\n",
      " [1 0]\n",
      " [1 1]]\n",
      "Labels (Actual Outputs): [0 1 1 1]\n",
      "Predicted Outputs: [0, 0, 0, 0]\n",
      "Correct Predictions: 1\n"
     ]
    }
   ],
   "source": [
    "# Define the inputs and corresponding labels for the 2-input OR gate (random weights and biases)\n",
    "\n",
    "inputs = np.array([[0, 0],\n",
    "                   [0, 1],\n",
    "                   [1, 0],\n",
    "                   [1, 1]])\n",
    "\n",
    "labels = np.array([0, 1, 1, 1])\n",
    "\n",
    "# Define the range for random initialization\n",
    "weight_range = (-1, 1)\n",
    "bias_range = (-1, 1)\n",
    "\n",
    "# Randomly initialize the weights and bias within the defined range\n",
    "weights = np.random.uniform(low=weight_range[0], high=weight_range[1], size=(2,))\n",
    "bias = np.random.uniform(low=bias_range[0], high=bias_range[1])\n",
    "\n",
    "# Define the activation function (step function)\n",
    "def step_function(x):\n",
    "    return 0 if x <= 0 else 1\n",
    "\n",
    "\n",
    "# Perform the forward pass to compute the outputs\n",
    "outputs = []\n",
    "for input_row in inputs:\n",
    "    weighted_sum = np.dot(input_row, weights) + bias\n",
    "    output = step_function(weighted_sum)\n",
    "    outputs.append(output)\n",
    "\n",
    "# Compare the predicted outputs with the actual labels\n",
    "correct_predictions = np.sum(np.array(outputs) == labels)\n",
    "\n",
    "# Print the results\n",
    "print(\"Random Weights:\", weights)\n",
    "print(\"Random Bias:\", bias)\n",
    "print(\"Inputs:\", inputs)\n",
    "print(\"Labels (Actual Outputs):\", labels)\n",
    "print(\"Predicted Outputs:\", outputs)\n",
    "print(\"Correct Predictions:\", correct_predictions)"
   ]
  },
  {
   "cell_type": "code",
   "execution_count": 21,
   "id": "5affb7bc-963c-4cec-9c8f-ba0489e75a20",
   "metadata": {},
   "outputs": [
    {
     "name": "stdout",
     "output_type": "stream",
     "text": [
      "Inputs: [[0 0 0]\n",
      " [0 0 1]\n",
      " [0 1 0]\n",
      " [0 1 1]\n",
      " [1 0 0]\n",
      " [1 0 1]\n",
      " [1 1 0]\n",
      " [1 1 1]]\n",
      "Labels (Actual Outputs): [0 1 1 1 1 1 1 1]\n",
      "Predicted Outputs: [0, 1, 1, 1, 1, 1, 1, 1]\n",
      "Correct Predictions: 8\n"
     ]
    }
   ],
   "source": [
    "# Define the inputs and corresponding labels for the 3-input OR gate\n",
    "\n",
    "inputs = np.array([[0, 0, 0],\n",
    "                   [0, 0, 1],\n",
    "                   [0, 1, 0],\n",
    "                   [0, 1, 1],\n",
    "                   [1, 0, 0],\n",
    "                   [1, 0, 1],\n",
    "                   [1, 1, 0],\n",
    "                   [1, 1, 1]])\n",
    "\n",
    "labels = np.array([0, 1, 1, 1, 1, 1, 1, 1])\n",
    "\n",
    "# Define the weights and bias for the neural network\n",
    "weights = np.array([1, 1, 1])\n",
    "bias = -0.5\n",
    "\n",
    "# Define the activation function (step function)\n",
    "def step_function(x):\n",
    "    return 0 if x <= 0 else 1\n",
    "\n",
    "# Perform the forward pass to compute the outputs\n",
    "outputs = []\n",
    "for input_row in inputs:\n",
    "    weighted_sum = np.dot(input_row, weights) + bias\n",
    "    output = step_function(weighted_sum)\n",
    "    outputs.append(output)\n",
    "\n",
    "# print(len(labels))\n",
    "\n",
    "# Compare the predicted outputs with the actual labels\n",
    "correct_predictions = np.sum(np.array(outputs) == labels)\n",
    "\n",
    "# Print the results\n",
    "print(\"Inputs:\", inputs)\n",
    "print(\"Labels (Actual Outputs):\", labels)\n",
    "print(\"Predicted Outputs:\", outputs)\n",
    "print(\"Correct Predictions:\", correct_predictions)"
   ]
  },
  {
   "cell_type": "code",
   "execution_count": 22,
   "id": "99e27edd-2054-4df2-b38b-bfb6601b80a8",
   "metadata": {},
   "outputs": [
    {
     "name": "stdout",
     "output_type": "stream",
     "text": [
      "Inputs: [0 1]\n",
      "Labels (Actual Outputs): [1 0]\n",
      "Predicted Outputs: [1, 0]\n",
      "Correct Predictions: 2\n"
     ]
    }
   ],
   "source": [
    "# Solve NOT gate problem using neural network\n",
    "\n",
    "# Define the inputs and corresponding labels for the NOT gate\n",
    "inputs = np.array([[0],\n",
    "                   [1]])\n",
    "\n",
    "labels = np.array([1, 0])\n",
    "\n",
    "# Define the weight and bias for the neural network\n",
    "weight = -1\n",
    "bias = 0.5\n",
    "\n",
    "# Define the activation function (step function)\n",
    "def step_function(x):\n",
    "    return 0 if x <= 0 else 1\n",
    "\n",
    "# Perform the forward pass to compute the outputs\n",
    "outputs = []\n",
    "for input_row in inputs:\n",
    "    weighted_sum = np.dot(input_row, weight) + bias\n",
    "    output = step_function(weighted_sum)\n",
    "    outputs.append(output)\n",
    "\n",
    "# Compare the predicted outputs with the actual labels\n",
    "correct_predictions = np.sum(np.array(outputs) == labels)\n",
    "\n",
    "# Print the results\n",
    "print(\"Inputs:\", inputs.flatten())\n",
    "print(\"Labels (Actual Outputs):\", labels)\n",
    "print(\"Predicted Outputs:\", outputs)\n",
    "print(\"Correct Predictions:\", correct_predictions)"
   ]
  },
  {
   "cell_type": "code",
   "execution_count": 23,
   "id": "c2994437-05ab-4a0d-abbd-0faba1e242d1",
   "metadata": {},
   "outputs": [
    {
     "name": "stdout",
     "output_type": "stream",
     "text": [
      "Random Weight: -1.8513685019131971\n",
      "Random Bias: -0.836535189637901\n",
      "Inputs: [0 1]\n",
      "Labels (Actual Outputs): [1 0]\n",
      "Predicted Outputs: [0, 0]\n",
      "Correct Predictions: 1\n"
     ]
    }
   ],
   "source": [
    "# Define the inputs and corresponding labels for the NOT gate (random weights and biases)\n",
    "\n",
    "inputs = np.array([[0],\n",
    "                   [1]])\n",
    "\n",
    "labels = np.array([1, 0])  # Output for NOT gate: 1 when input is 0, and 0 when input is 1\n",
    "\n",
    "# Define the range for random initialization\n",
    "weight_range = (-2, 2)\n",
    "bias_range = (-1, 1)\n",
    "\n",
    "# Randomly initialize the weight and bias within the defined range\n",
    "weight = np.random.uniform(low=weight_range[0], high=weight_range[1])\n",
    "bias = np.random.uniform(low=bias_range[0], high=bias_range[1])\n",
    "\n",
    "# Define the activation function (step function)\n",
    "def step_function(x):\n",
    "    return 0 if x <= 0 else 1\n",
    "\n",
    "# Perform the forward pass to compute the outputs\n",
    "outputs = []\n",
    "for input_row in inputs:\n",
    "    weighted_sum = np.dot(input_row, weight) + bias\n",
    "    output = step_function(weighted_sum)\n",
    "    outputs.append(output)\n",
    "\n",
    "# Compare the predicted outputs with the actual labels\n",
    "correct_predictions = np.sum(np.array(outputs) == labels)\n",
    "\n",
    "# Print the results\n",
    "print(\"Random Weight:\", weight)\n",
    "print(\"Random Bias:\", bias)\n",
    "print(\"Inputs:\", inputs.flatten())\n",
    "print(\"Labels (Actual Outputs):\", labels)\n",
    "print(\"Predicted Outputs:\", outputs)\n",
    "print(\"Correct Predictions:\", correct_predictions)"
   ]
  }
 ],
 "metadata": {
  "kernelspec": {
   "display_name": "Python 3 (ipykernel)",
   "language": "python",
   "name": "python3"
  },
  "language_info": {
   "codemirror_mode": {
    "name": "ipython",
    "version": 3
   },
   "file_extension": ".py",
   "mimetype": "text/x-python",
   "name": "python",
   "nbconvert_exporter": "python",
   "pygments_lexer": "ipython3",
   "version": "3.13.0"
  }
 },
 "nbformat": 4,
 "nbformat_minor": 5
}
